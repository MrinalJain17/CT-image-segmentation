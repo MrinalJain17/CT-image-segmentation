{
 "cells": [
  {
   "cell_type": "markdown",
   "metadata": {},
   "source": [
    "**Note that the code in this notebook might not be as readable or documented. It's meant to compute/visualize certain statistics/measures that can be used globally for the entire dataset.**"
   ]
  },
  {
   "cell_type": "code",
   "execution_count": 1,
   "metadata": {},
   "outputs": [],
   "source": [
    "# Run this cell in the beginning\n",
    "# Required to import other code in the repository\n",
    "import project_path"
   ]
  },
  {
   "cell_type": "code",
   "execution_count": 2,
   "metadata": {},
   "outputs": [],
   "source": [
    "import numpy as np\n",
    "import matplotlib.pyplot as plt\n",
    "import seaborn as sns\n",
    "import torch\n",
    "\n",
    "%matplotlib inline\n",
    "\n",
    "from utils import miccai, visualize"
   ]
  },
  {
   "cell_type": "code",
   "execution_count": 3,
   "metadata": {},
   "outputs": [],
   "source": [
    "root_dir = \"../data/miccai/train/\"\n",
    "patient_collection = miccai.PatientCollection(root_dir)\n",
    "\n",
    "sample = \"../data/miccai/train/0522c0017/\"\n",
    "sample_patient = miccai.Patient(sample)"
   ]
  },
  {
   "cell_type": "code",
   "execution_count": 4,
   "metadata": {},
   "outputs": [
    {
     "name": "stderr",
     "output_type": "stream",
     "text": [
      "100%|██████████████████████████████████████████████████████████████████████████████████| 25/25 [01:32<00:00,  3.72s/it]\n"
     ]
    },
    {
     "data": {
      "text/plain": [
       "{'0522c0001': [206, 316, 147, 254, 0.4766355140186916, 0.822429906542056],\n",
       " '0522c0002': [190, 327, 107, 231, 0.4307692307692308, 0.7538461538461538],\n",
       " '0522c0003': [197, 318, 164, 273, 0.4552238805970149, 0.7761194029850746],\n",
       " '0522c0009': [187, 323, 141, 265, 0.4861111111111111, 0.7847222222222222],\n",
       " '0522c0013': [189, 319, 139, 264, 0.4927536231884058, 0.8043478260869565],\n",
       " '0522c0017': [190, 321, 118, 229, 0.4230769230769231, 0.75],\n",
       " '0522c0070': [187, 324, 146, 266, 0.4140625, 0.7578125],\n",
       " '0522c0077': [181, 333, 144, 269, 0.3923076923076923, 0.7538461538461538],\n",
       " '0522c0081': [168, 339, 126, 265, 0.43125, 0.7875],\n",
       " '0522c0125': [179, 343, 98, 264, 0.4605263157894737, 0.9736842105263158],\n",
       " '0522c0132': [187, 312, 152, 270, 0.40869565217391307, 0.7652173913043478],\n",
       " '0522c0147': [170, 367, 107, 311, 0.3897058823529412, 0.75],\n",
       " '0522c0149': [161, 344, 149, 288, 0.3953488372093023, 0.7209302325581395],\n",
       " '0522c0161': [181, 341, 127, 250, 0.39705882352941174, 0.7132352941176471],\n",
       " '0522c0195': [198, 316, 138, 245, 0.46153846153846156, 0.7769230769230769],\n",
       " '0522c0226': [179, 339, 111, 246, 0.42592592592592593, 0.7654320987654321],\n",
       " '0522c0248': [184, 320, 120, 258, 0.4943181818181818, 0.8125],\n",
       " '0522c0251': [186, 333, 138, 266, 0.5042016806722689, 0.9159663865546218],\n",
       " '0522c0253': [170, 335, 131, 256, 0.4, 0.7375],\n",
       " '0522c0328': [186, 333, 96, 241, 0.6288659793814433, 0.8505154639175257],\n",
       " '0522c0329': [205, 308, 167, 236, 0.4603174603174603, 0.7619047619047619],\n",
       " '0522c0330': [178, 350, 159, 250, 0.6132596685082873, 0.8176795580110497],\n",
       " '0522c0441': [187, 320, 172, 250, 0.5694444444444444, 0.7861111111111111],\n",
       " '0522c0455': [187, 320, 197, 274, 0.56, 0.872],\n",
       " '0522c0457': [191, 319, 151, 226, 0.4143646408839779, 0.7292817679558011]}"
      ]
     },
     "execution_count": 4,
     "metadata": {},
     "output_type": "execute_result"
    }
   ],
   "source": [
    "def structure_boundary_coordinates(patient):\n",
    "    min_x_list = []\n",
    "    max_x_list = []\n",
    "    min_y_list = []\n",
    "    max_y_list = []\n",
    "    min_z_list = []\n",
    "    max_z_list = []\n",
    "\n",
    "    for structure in miccai.STRUCTURES:\n",
    "        region_vol = patient.structures[structure]\n",
    "        if region_vol is not None:\n",
    "            structure_indicator_along_x = region_vol.as_numpy()[0].max(axis=(0, 2))\n",
    "            structure_indicator_along_y = region_vol.as_numpy()[0].max(axis=(0, 1))\n",
    "            structure_indicator_along_z = region_vol.as_numpy()[0].max(axis=(1, 2))\n",
    "\n",
    "            min_x_list.append(np.where(structure_indicator_along_x == 1)[0].min())\n",
    "            max_x_list.append(np.where(structure_indicator_along_x == 1)[0].max())\n",
    "            min_y_list.append(np.where(structure_indicator_along_y == 1)[0].min())\n",
    "            max_y_list.append(np.where(structure_indicator_along_y == 1)[0].max())\n",
    "            min_z_list.append(np.where(structure_indicator_along_z == 1)[0].min())\n",
    "            max_z_list.append(np.where(structure_indicator_along_z == 1)[0].max())\n",
    "\n",
    "    min_x = np.min(min_x_list)\n",
    "    max_x = np.max(max_x_list)\n",
    "    min_y = np.min(min_y_list)\n",
    "    max_y = np.max(max_y_list)\n",
    "    min_z = np.min(min_z_list) / patient.num_slides\n",
    "    max_z = np.max(max_z_list) / patient.num_slides\n",
    "    \n",
    "    return [min_x, max_x, min_y, max_y, min_z, max_z]\n",
    "\n",
    "results = patient_collection.apply_function(structure_boundary_coordinates)\n",
    "results"
   ]
  },
  {
   "cell_type": "code",
   "execution_count": 5,
   "metadata": {},
   "outputs": [
    {
     "name": "stdout",
     "output_type": "stream",
     "text": [
      "Height : (161.0, 367.0)\n",
      "Width: (96.0, 311.0)\n",
      "Depth: (0.3897058823529412, 0.9736842105263158)\n"
     ]
    }
   ],
   "source": [
    "coordinates = np.array(list(results.values()))\n",
    "\n",
    "min_ = coordinates.min(axis=0)\n",
    "min_x, min_y, min_z = min_[0], min_[2], min_[4]\n",
    "\n",
    "max_ = coordinates.max(axis=0)\n",
    "max_x, max_y, max_z = max_[1], max_[3], max_[5]\n",
    "\n",
    "print(f\"Height : {min_x, max_x}\")  #120, 400\n",
    "print(f\"Width: {min_y, max_y}\")  # 55, 335\n",
    "print(f\"Depth: {min_z, max_z}\")  # 0.32, 0.99"
   ]
  },
  {
   "cell_type": "code",
   "execution_count": 6,
   "metadata": {},
   "outputs": [
    {
     "name": "stderr",
     "output_type": "stream",
     "text": [
      "100%|██████████████████████████████████████████████████████████████████████████████████| 25/25 [01:21<00:00,  3.27s/it]\n"
     ]
    }
   ],
   "source": [
    "def get_region_voxels(patient):\n",
    "    voxel_dict = {}\n",
    "    for structure in miccai.STRUCTURES:\n",
    "        region_volume = patient.structures[structure]\n",
    "        if region_volume is not None:\n",
    "            voxel_dict[structure] = patient.image.as_numpy()[\n",
    "                region_volume.as_numpy() == 1\n",
    "            ]\n",
    "        else:\n",
    "            voxel_dict[structure] = None\n",
    "            \n",
    "    return voxel_dict\n",
    "\n",
    "results = patient_collection.apply_function(get_region_voxels)"
   ]
  },
  {
   "cell_type": "code",
   "execution_count": 7,
   "metadata": {},
   "outputs": [
    {
     "data": {
      "image/png": "[encoded data removed]",
      "text/plain": [
       "<Figure size 1008x576 with 2 Axes>"
      ]
     },
     "metadata": {
      "needs_background": "light"
     },
     "output_type": "display_data"
    }
   ],
   "source": [
    "region_voxels = {structure: [] for structure in miccai.STRUCTURES}\n",
    "\n",
    "for structure in region_voxels.keys():\n",
    "    for (p_name, p_voxel) in results.items():\n",
    "        if p_voxel[structure] is not None:\n",
    "            region_voxels[structure].append(p_voxel[structure])\n",
    "            \n",
    "region_voxels = {\n",
    "    structure: np.concatenate(voxel_list)\n",
    "    for (structure, voxel_list) in region_voxels.items()\n",
    "}\n",
    "\n",
    "fig, axes = plt.subplots(1, 2, constrained_layout=True, figsize=(14, 8))\n",
    "sns.boxplot(data=list(region_voxels.values()), showmeans=True, showfliers=False, ax=axes[0])\n",
    "axes[0].set_xticklabels(region_voxels.keys(), rotation=45);\n",
    "axes[0].set_ylabel(\"Hounsfield Units (HU)\");\n",
    "\n",
    "_ = region_voxels.pop(\"Mandible\")\n",
    "\n",
    "sns.boxplot(data=list(region_voxels.values()), showmeans=True, showfliers=False, ax=axes[1])\n",
    "axes[1].set_xticklabels(region_voxels.keys(), rotation=45);\n",
    "axes[1].set_ylabel(\"Hounsfield Units (HU)\");"
   ]
  },
  {
   "cell_type": "code",
   "execution_count": 8,
   "metadata": {},
   "outputs": [
    {
     "name": "stderr",
     "output_type": "stream",
     "text": [
      "100%|██████████████████████████████████████████████████████████████████████████████████| 25/25 [01:00<00:00,  2.41s/it]"
     ]
    },
    {
     "name": "stdout",
     "output_type": "stream",
     "text": [
      "Each patient has minimum 6 structures annotated.\n",
      "Given below is the number of annotations available for each structure:\n",
      "\n",
      "BrainStem 25\n",
      "Chiasm 25\n",
      "Mandible 20\n",
      "OpticNerve_L 25\n",
      "OpticNerve_R 25\n",
      "Parotid_L 25\n",
      "Parotid_R 25\n",
      "Submandibular_L 20\n",
      "Submandibular_R 18\n"
     ]
    },
    {
     "name": "stderr",
     "output_type": "stream",
     "text": [
      "\n"
     ]
    }
   ],
   "source": [
    "def structure_annotations(patient):\n",
    "    indicator = []\n",
    "    for structure in miccai.STRUCTURES:\n",
    "        temp = 1 if patient.structures[structure] is not None else 0\n",
    "        indicator.append(temp)\n",
    "        \n",
    "    return indicator\n",
    "\n",
    "results = patient_collection.apply_function(structure_annotations)\n",
    "\n",
    "print(f\"Each patient has minimum {np.array(list(results.values())).sum(axis=1).min()} structures annotated.\")\n",
    "print(\"Given below is the number of annotations available for each structure:\\n\")\n",
    "for structure, count in zip(miccai.STRUCTURES, np.array(list(results.values())).sum(axis=0)):\n",
    "    print(structure, count)"
   ]
  },
  {
   "cell_type": "code",
   "execution_count": null,
   "metadata": {},
   "outputs": [],
   "source": []
  }
 ],
 "metadata": {
  "kernelspec": {
   "display_name": "Python [conda env:root] *",
   "language": "python",
   "name": "conda-root-py"
  },
  "language_info": {
   "codemirror_mode": {
    "name": "ipython",
    "version": 3
   },
   "file_extension": ".py",
   "mimetype": "text/x-python",
   "name": "python",
   "nbconvert_exporter": "python",
   "pygments_lexer": "ipython3",
   "version": "3.7.9"
  }
 },
 "nbformat": 4,
 "nbformat_minor": 4
}
