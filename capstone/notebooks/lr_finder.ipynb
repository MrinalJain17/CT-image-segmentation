{
 "cells": [
  {
   "cell_type": "code",
   "execution_count": 1,
   "metadata": {},
   "outputs": [],
   "source": [
    "import matplotlib.pyplot as plt\n",
    "from capstone.data.data_module import MiccaiDataModule2D\n",
    "from capstone.paths import DEFAULT_DATA_STORAGE\n",
    "from capstone.training.base_trainer import BaseUNet2D\n",
    "from capstone.training.mixup_trainer import MixupUNet2D\n",
    "from capstone.utils.utils import AttrDict\n",
    "from pytorch_lightning import Trainer, seed_everything\n",
    "\n",
    "%matplotlib inline\n",
    "\n",
    "SEED = 12342"
   ]
  },
  {
   "cell_type": "code",
   "execution_count": 2,
   "metadata": {},
   "outputs": [
    {
     "name": "stderr",
     "output_type": "stream",
     "text": [
      "GPU available: True, used: True\n",
      "TPU available: False, using: 0 TPU cores\n",
      "LOCAL_RANK: 0 - CUDA_VISIBLE_DEVICES: [0]\n",
      "Set SLURM handle signals.\n",
      "\n",
      "  | Name      | Type                | Params\n",
      "--------------------------------------------------\n",
      "0 | conv1x1   | Conv2d              | 4     \n",
      "1 | unet      | UNet                | 26.0 M\n",
      "2 | loss_func | MultipleLossWrapper | 0     \n"
     ]
    },
    {
     "data": {
      "application/vnd.jupyter.widget-view+json": {
       "model_id": "a540fcf610ed4196a439470ff43c5b54",
       "version_major": 2,
       "version_minor": 0
      },
      "text/plain": [
       "HBox(children=(HTML(value='Finding best initial lr'), FloatProgress(value=0.0), HTML(value='')))"
      ]
     },
     "metadata": {},
     "output_type": "display_data"
    },
    {
     "name": "stdout",
     "output_type": "stream",
     "text": [
      "Suggested LR: 0.5754399373371567\n",
      "\n"
     ]
    },
    {
     "data": {
      "image/png": "[encoded data removed]",
      "text/plain": [
       "<Figure size 432x288 with 1 Axes>"
      ]
     },
     "metadata": {
      "needs_background": "light"
     },
     "output_type": "display_data"
    }
   ],
   "source": [
    "CONFIG = AttrDict()\n",
    "CONFIG.BATCH_SIZE = 128\n",
    "CONFIG.TRANSFORM_DEGREE = 0\n",
    "CONFIG.FILTERS = [64, 128, 256, 512, 1024]\n",
    "CONFIG.USE_RES_UNITS = True\n",
    "CONFIG.LR = 0.001\n",
    "CONFIG.LOSS_FX = [\"Focal\", \"Dice\"]\n",
    "CONFIG.EXCLUDE_MISSING = True\n",
    "CONFIG.MIXUP = False\n",
    "\n",
    "def main():\n",
    "    seed_everything(SEED)\n",
    "\n",
    "    # Data\n",
    "    miccai_2d = MiccaiDataModule2D(\n",
    "        batch_size=CONFIG.BATCH_SIZE,\n",
    "        transform_degree=CONFIG.TRANSFORM_DEGREE,\n",
    "        enhanced=\"Boundary\" in CONFIG.LOSS_FX\n",
    "    )\n",
    "    \n",
    "    _model = MixupUNet2D if CONFIG.MIXUP else BaseUNet2D\n",
    "\n",
    "    # Model\n",
    "    model = _model(\n",
    "        filters=CONFIG.FILTERS,\n",
    "        use_res_units=CONFIG.USE_RES_UNITS,\n",
    "        lr=CONFIG.LR,\n",
    "        loss_fx=CONFIG.LOSS_FX,\n",
    "        exclude_missing=CONFIG.EXCLUDE_MISSING,\n",
    "        batch_size=CONFIG.BATCH_SIZE,\n",
    "        transform_degree=CONFIG.TRANSFORM_DEGREE,\n",
    "    )\n",
    "\n",
    "    # Trainer\n",
    "    trainer = Trainer(gpus=1, default_root_dir=DEFAULT_DATA_STORAGE)\n",
    "\n",
    "    lr_finder = trainer.tuner.lr_find(model, miccai_2d)\n",
    "    print(f\"Suggested LR: {lr_finder.suggestion()}\")\n",
    "    fig = lr_finder.plot(suggest=True)\n",
    "    \n",
    "main()"
   ]
  },
  {
   "cell_type": "code",
   "execution_count": 2,
   "metadata": {},
   "outputs": [
    {
     "name": "stderr",
     "output_type": "stream",
     "text": [
      "GPU available: True, used: True\n",
      "TPU available: False, using: 0 TPU cores\n",
      "LOCAL_RANK: 0 - CUDA_VISIBLE_DEVICES: [0]\n",
      "Set SLURM handle signals.\n",
      "\n",
      "  | Name      | Type                | Params\n",
      "--------------------------------------------------\n",
      "0 | conv1x1   | Conv2d              | 4     \n",
      "1 | unet      | UNet                | 13.4 M\n",
      "2 | loss_func | MultipleLossWrapper | 0     \n"
     ]
    },
    {
     "data": {
      "application/vnd.jupyter.widget-view+json": {
       "model_id": "1a329db3b1a04a35a487c27b2dd40236",
       "version_major": 2,
       "version_minor": 0
      },
      "text/plain": [
       "HBox(children=(HTML(value='Finding best initial lr'), FloatProgress(value=0.0), HTML(value='')))"
      ]
     },
     "metadata": {},
     "output_type": "display_data"
    },
    {
     "name": "stdout",
     "output_type": "stream",
     "text": [
      "Suggested LR: 0.025118864315095822\n",
      "\n"
     ]
    },
    {
     "data": {
      "image/png": "[encoded data removed]",
      "text/plain": [
       "<Figure size 432x288 with 1 Axes>"
      ]
     },
     "metadata": {
      "needs_background": "light"
     },
     "output_type": "display_data"
    }
   ],
   "source": [
    "CONFIG = AttrDict()\n",
    "CONFIG.BATCH_SIZE = 128\n",
    "CONFIG.TRANSFORM_DEGREE = 0\n",
    "CONFIG.FILTERS = [64, 128, 256, 512, 1024]\n",
    "CONFIG.USE_RES_UNITS = True\n",
    "CONFIG.LR = 0.001\n",
    "CONFIG.LOSS_FX = [\"Focal\", \"Dice\", \"Boundary\"]\n",
    "CONFIG.EXCLUDE_MISSING = True\n",
    "CONFIG.MIXUP = True\n",
    "\n",
    "def main():\n",
    "    seed_everything(SEED)\n",
    "\n",
    "    # Data\n",
    "    miccai_2d = MiccaiDataModule2D(\n",
    "        batch_size=CONFIG.BATCH_SIZE,\n",
    "        transform_degree=CONFIG.TRANSFORM_DEGREE,\n",
    "        enhanced=\"Boundary\" in CONFIG.LOSS_FX\n",
    "    )\n",
    "    \n",
    "    _model = MixupUNet2D if CONFIG.MIXUP else BaseUNet2D\n",
    "\n",
    "    # Model\n",
    "    model = _model(\n",
    "        filters=CONFIG.FILTERS,\n",
    "        use_res_units=CONFIG.USE_RES_UNITS,\n",
    "        lr=CONFIG.LR,\n",
    "        loss_fx=CONFIG.LOSS_FX,\n",
    "        exclude_missing=CONFIG.EXCLUDE_MISSING,\n",
    "        batch_size=CONFIG.BATCH_SIZE,\n",
    "        transform_degree=CONFIG.TRANSFORM_DEGREE,\n",
    "    )\n",
    "\n",
    "    # Trainer\n",
    "    trainer = Trainer(gpus=1, default_root_dir=DEFAULT_DATA_STORAGE)\n",
    "\n",
    "    lr_finder = trainer.tuner.lr_find(model, miccai_2d)\n",
    "    print(f\"Suggested LR: {lr_finder.suggestion()}\")\n",
    "    fig = lr_finder.plot(suggest=True)\n",
    "    \n",
    "main()"
   ]
  },
  {
   "cell_type": "code",
   "execution_count": null,
   "metadata": {},
   "outputs": [],
   "source": []
  }
 ],
 "metadata": {
  "kernelspec": {
   "display_name": "Python [conda env:root] *",
   "language": "python",
   "name": "conda-root-py"
  },
  "language_info": {
   "codemirror_mode": {
    "name": "ipython",
    "version": 3
   },
   "file_extension": ".py",
   "mimetype": "text/x-python",
   "name": "python",
   "nbconvert_exporter": "python",
   "pygments_lexer": "ipython3",
   "version": "3.7.9"
  }
 },
 "nbformat": 4,
 "nbformat_minor": 4
}
